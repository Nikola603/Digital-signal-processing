{
 "cells": [
  {
   "cell_type": "code",
   "execution_count": 10,
   "metadata": {},
   "outputs": [],
   "source": [
    "import numpy as np\n",
    "from scipy.special import erfc \n",
    "import matplotlib.pyplot as plt"
   ]
  },
  {
   "cell_type": "code",
   "execution_count": 11,
   "metadata": {},
   "outputs": [],
   "source": [
    "def main():\n",
    "  # ukupan broj bitova koji se prenose\n",
    "  bit_length  = 10000 \n",
    "  # broj iteracija, promenljiva koja je potrebna za racunanje proseka greske\n",
    "  iter_len = 30\n",
    "\n",
    "  SNR_db = np.array(np.arange(-2, 10, 1),float)\n",
    "  \n",
    "  noise = np.zeros(len(SNR_db), float)\n",
    "\n",
    "  error = np.zeros((iter_len, len(SNR_db)), float)  \n",
    "                                                \n",
    "  for iter in range(iter_len):\n",
    "    # svaki put se generise druga buka\n",
    "    for i in range (len(noise)):\n",
    "      noise[i]= 1/np.sqrt(2)*10**(-SNR_db[i]/20) \n",
    "    # svaki put se racuna ukupan broj pogresnih bitova\n",
    "    error_matrix =np.zeros(len(SNR_db), float)\n",
    "    for i in range(len(noise)):\n",
    "      error_matrix[i] = error_calculation(bit_length, noise[i])\n",
    "    # svaki put se cuva ukupan broj pogresnih bitova\n",
    "    error[iter]=error_matrix\n",
    "\n",
    "  # prosek greske\n",
    "  BER = error.sum(axis=0)/(iter_len*bit_length)\n",
    "\n",
    "  # teoretska greska\n",
    "  theoryBER = np.zeros(len(SNR_db),float)\n",
    "  for i in range(len(SNR_db)):\n",
    "    theoryBER[i] = 0.5*erfc(np.sqrt(10**(SNR_db[i]/10)))\n",
    "\n",
    "  plt.semilogy(SNR_db, BER,'--')\n",
    "  plt.semilogy(SNR_db, theoryBER, 'mo')\n",
    "  plt.ylabel('BER')\n",
    "  plt.xlabel('SNR')\n",
    "  plt.title('BPSK BER Krive')\n",
    "  plt.legend(['Simulacija', 'Teorija'], loc='upper right')\n",
    "  plt.grid()\n",
    "  \n",
    "  # mogucnost cuvanja grafika\n",
    "  ans = input(\"Da li zelite da sacuvate grafik(da/ne): \")\n",
    "  if(ans == \"da\"):\n",
    "    name_fig = input(\"Naziv grafika: \")\n",
    "    plt.savefig(\"%s.png\" %name_fig)\n",
    "    print(\"Grafik sacuvan!\")\n",
    "  elif(ans == \"ne\"):\n",
    "    plt.show()\n",
    "  else:\n",
    "    print(\"Pogresan unos!\")"
   ]
  },
  {
   "cell_type": "code",
   "execution_count": 12,
   "metadata": {},
   "outputs": [],
   "source": [
    "def error_calculation(bit_length, noise_amp):\n",
    "  # kreiranje niza (sadrzi random vrednosti izmedju -1 i 1, duzina bit_length)\n",
    "  b = np.random.uniform(-1, 1, bit_length) \n",
    "    \n",
    "  # binarni signal generisan iz 'b'\n",
    "  signal = np.zeros((bit_length), float)\n",
    "  for i in range(len(b)):\n",
    "    if b[i] < 0:\n",
    "      signal[i]=-1\n",
    "    else:\n",
    "      signal[i]=1\n",
    "  # signal se sastoji od niza sa elementima -1 i 1, ukupna duzina bit_length, \n",
    "  # to je nas digitalni signal koji prenosimo\n",
    "    \n",
    "  # Gausov-a buka\n",
    "  noise = np.random.randn(bit_length)\n",
    "    \n",
    "  # primeljen_signal=orginalni_signal+pojacana_buka\n",
    "  rx_signal = signal + noise_amp*noise \n",
    "\n",
    "  detected_signal = np.zeros((bit_length),float)\n",
    "  for i in range(len(b)):\n",
    "    if rx_signal[i] < 0:\n",
    "      detected_signal[i]=-1\n",
    "    else:\n",
    "      detected_signal[i]=1\n",
    "  # detected_signal se sastoji od niza sa elementima -1 i 1, ukupna duzina bit_length, \n",
    "  # to je digitalni signal koji je primljen\n",
    "    \n",
    "  error_matrix = abs((detected_signal - signal)/2)\n",
    "\n",
    "  # sabiramo sve elemente niza(dobijamo broj pogresnih bitova), jer je to potrebno za BER\n",
    "  error = error_matrix.sum()\n",
    "  return error "
   ]
  },
  {
   "cell_type": "code",
   "execution_count": 13,
   "metadata": {},
   "outputs": [
    {
     "name": "stdout",
     "output_type": "stream",
     "text": [
      "Da li zelite da sacuvate grafik(da/ne): ne\n"
     ]
    },
    {
     "data": {
      "image/png": "[encoded data removed]",
      "text/plain": [
       "<matplotlib.figure.Figure at 0x7f54984e0cc0>"
      ]
     },
     "metadata": {
      "needs_background": "light"
     },
     "output_type": "display_data"
    }
   ],
   "source": [
    "main()"
   ]
  }
 ],
 "metadata": {
  "kernelspec": {
   "display_name": "Python 3",
   "language": "python",
   "name": "python3"
  },
  "language_info": {
   "codemirror_mode": {
    "name": "ipython",
    "version": 3
   },
   "file_extension": ".py",
   "mimetype": "text/x-python",
   "name": "python",
   "nbconvert_exporter": "python",
   "pygments_lexer": "ipython3",
   "version": "3.6.9"
  }
 },
 "nbformat": 4,
 "nbformat_minor": 4
}
